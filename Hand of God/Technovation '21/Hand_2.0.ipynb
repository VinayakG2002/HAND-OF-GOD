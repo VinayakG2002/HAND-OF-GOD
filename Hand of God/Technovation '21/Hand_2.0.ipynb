{
 "cells": [
  {
   "cell_type": "markdown",
   "metadata": {},
   "source": [
    "# Hand of God Code 2.0"
   ]
  },
  {
   "cell_type": "markdown",
   "metadata": {},
   "source": [
    "### Importing required libraries"
   ]
  },
  {
   "cell_type": "code",
   "execution_count": null,
   "metadata": {},
   "outputs": [],
   "source": [
    "import matplotlib.pyplot as plt\n",
    "from sklearn.model_selection import train_test_split\n",
    "from sklearn.linear_model import LogisticRegression\n",
    "from sklearn.metrics import classification_report, confusion_matrix\n",
    "import numpy as np\n",
    "import csv\n",
    "import serial\n",
    "import time\n",
    "import pandas as pd\n",
    "import keyboard\n",
    "import os"
   ]
  },
  {
   "cell_type": "markdown",
   "metadata": {},
   "source": [
    "### Training Data extractor from csv file"
   ]
  },
  {
   "cell_type": "code",
   "execution_count": null,
   "metadata": {},
   "outputs": [],
   "source": [
    "def x_built(hand):\n",
    "    l=[]\n",
    "    for i in range(1,len(hand)):\n",
    "       l=l+[[hand[i][0],hand[i][1],hand[i][2],hand[i][3]]]\n",
    "    return np.array(l, dtype=list)\n",
    "    \n",
    "def y_built(hand):\n",
    "    l=[]\n",
    "    for i in range(1,len(hand)):\n",
    "       l=l+[[hand[i][4]]] \n",
    "    return np.array(l, dtype=list)\n",
    "\n",
    "reader = list(csv.reader(open(os.getcwd() + '\\\\Hand.csv')))\n",
    "\n",
    "X = x_built(reader)\n",
    "Y = y_built(reader)"
   ]
  },
  {
   "cell_type": "markdown",
   "metadata": {},
   "source": [
    "### Creating Linear regression model and its methods"
   ]
  },
  {
   "cell_type": "code",
   "execution_count": null,
   "metadata": {},
   "outputs": [],
   "source": [
    "model = LogisticRegression(kernel='linear', solver='liblinear', C=0.05, random_state=0)\n",
    "x_train, x_test, y_train, y_test = train_test_split(X, Y, random_state=0)\n",
    "model.fit(x_train, y_train)"
   ]
  },
  {
   "cell_type": "code",
   "execution_count": null,
   "metadata": {},
   "outputs": [],
   "source": [
    "model.predict(x)"
   ]
  },
  {
   "cell_type": "markdown",
   "metadata": {},
   "source": [
    "### Confusion-matrix and heat map visualization of hand gesture database"
   ]
  },
  {
   "cell_type": "code",
   "execution_count": null,
   "metadata": {},
   "outputs": [],
   "source": [
    "cm = confusion_matrix(y, model.predict(x))\n",
    "\n",
    "fig, ax = plt.subplots(figsize=(8, 8))\n",
    "ax.imshow(cm)\n",
    "ax.grid(False)\n",
    "ax.set_ylim(1.5, -0.5)\n",
    "for i in range(2):\n",
    "    for j in range(2):\n",
    "        ax.text(j, i, cm[i, j], ha='center', va='center', color='red')\n",
    "plt.show()"
   ]
  },
  {
   "cell_type": "markdown",
   "metadata": {},
   "source": [
    "### Classification report and Accuracies of model"
   ]
  },
  {
   "cell_type": "code",
   "execution_count": null,
   "metadata": {},
   "outputs": [],
   "source": [
    "print(\"Learning score: \", model.score(x_train, y_train))\n",
    "print(\"Predictive score: \", model.score(x, y))\n",
    "print(\"Classification Report: \", classification_report(y, model.predict(x)))"
   ]
  }
 ],
 "metadata": {
  "interpreter": {
   "hash": "74d10043df263d884b70c8395d38762f48ae4aba41da7c7bd34da933d7498f2a"
  },
  "kernelspec": {
   "display_name": "Python 3.9.7 64-bit",
   "name": "python3"
  },
  "language_info": {
   "codemirror_mode": {
    "name": "ipython",
    "version": 3
   },
   "file_extension": ".py",
   "mimetype": "text/x-python",
   "name": "python",
   "nbconvert_exporter": "python",
   "pygments_lexer": "ipython3",
   "version": "3.9.7"
  },
  "orig_nbformat": 4
 },
 "nbformat": 4,
 "nbformat_minor": 2
}
