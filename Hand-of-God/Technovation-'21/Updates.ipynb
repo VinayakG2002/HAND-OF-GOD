{
 "cells": [
  {
   "cell_type": "markdown",
   "metadata": {},
   "source": [
    "# Updates notes releases 1.1 for Version Hand of God 2.0"
   ]
  },
  {
   "cell_type": "markdown",
   "metadata": {},
   "source": [
    "### - Updated to Logistic regression model of Sklearn instead of previous used SVM library\n",
    "### - Created a feature of executing the code in any device without root directory updation\n",
    "### - Utilized Jupyter notebook and variable renaming for better UI experience for the coders :p\n",
    "### - Working on Pytorch impelementation alongside Sklearn or replace it in longer run for better optimization"
   ]
  }
 ],
 "metadata": {
  "language_info": {
   "name": "python"
  },
  "orig_nbformat": 4
 },
 "nbformat": 4,
 "nbformat_minor": 2
}
