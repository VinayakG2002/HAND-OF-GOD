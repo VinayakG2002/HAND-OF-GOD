{
 "cells": [
  {
   "cell_type": "markdown",
   "metadata": {},
   "source": [
    "# Hand of God Code 2.0"
   ]
  },
  {
   "cell_type": "markdown",
   "metadata": {},
   "source": [
    "### Importing required libraries"
   ]
  },
  {
   "cell_type": "code",
   "execution_count": 187,
   "metadata": {},
   "outputs": [],
   "source": [
    "import matplotlib.pyplot as plt\n",
    "from sklearn.model_selection import train_test_split\n",
    "from sklearn.linear_model import LogisticRegression\n",
    "from sklearn.metrics import classification_report, confusion_matrix\n",
    "import numpy as np\n",
    "import csv\n",
    "import serial\n",
    "import time\n",
    "import pandas as pd\n",
    "import keyboard\n",
    "import os"
   ]
  },
  {
   "cell_type": "markdown",
   "metadata": {},
   "source": [
    "### Training Data extractor from csv file"
   ]
  },
  {
   "cell_type": "code",
   "execution_count": 188,
   "metadata": {},
   "outputs": [],
   "source": [
    "def x_built(hand):\n",
    "    l=[]\n",
    "    for i in range(1,len(hand)):\n",
    "       l=l+[[hand[i][0],hand[i][1],hand[i][2],hand[i][3]]]\n",
    "    return np.array(l, dtype=list)\n",
    "    \n",
    "def y_built(hand):\n",
    "    l=[]\n",
    "    for i in range(1,len(hand)):\n",
    "       l=l+[[hand[i][4]]] \n",
    "    return np.array(l, dtype=list)\n",
    "\n",
    "reader = list(csv.reader(open(os.getcwd() + '\\\\Vol-Ges.csv')))\n",
    "\n",
    "x = x_built(reader)\n",
    "y = y_built(reader)"
   ]
  },
  {
   "cell_type": "markdown",
   "metadata": {},
   "source": [
    "### Creating Linear regression model and its methods"
   ]
  },
  {
   "cell_type": "code",
   "execution_count": 189,
   "metadata": {},
   "outputs": [
    {
     "name": "stderr",
     "output_type": "stream",
     "text": [
      "C:\\Users\\hanub\\AppData\\Local\\Programs\\Python\\Python39\\lib\\site-packages\\sklearn\\utils\\validation.py:985: DataConversionWarning: A column-vector y was passed when a 1d array was expected. Please change the shape of y to (n_samples, ), for example using ravel().\n",
      "  y = column_or_1d(y, warn=True)\n"
     ]
    },
    {
     "data": {
      "text/plain": [
       "LogisticRegression(C=0.05, random_state=0, solver='liblinear')"
      ]
     },
     "execution_count": 189,
     "metadata": {},
     "output_type": "execute_result"
    }
   ],
   "source": [
    "model = LogisticRegression(solver='liblinear', C=0.05, random_state=0)\n",
    "x_train, x_test, y_train, y_test = train_test_split(x, y, random_state=0)\n",
    "model.fit(x_train, y_train)"
   ]
  },
  {
   "cell_type": "markdown",
   "metadata": {},
   "source": [
    "### Prediction functions and Testing prediction"
   ]
  },
  {
   "cell_type": "code",
   "execution_count": 190,
   "metadata": {},
   "outputs": [
    {
     "name": "stdout",
     "output_type": "stream",
     "text": [
      "[['Yo']\n",
      " ['Yo']\n",
      " ['Yo']\n",
      " ['Yo']\n",
      " ['Yo']\n",
      " ['Yo']\n",
      " ['Yo']\n",
      " ['Yo']\n",
      " ['Yo']\n",
      " ['Yo']\n",
      " ['Yo']\n",
      " ['Yo']\n",
      " ['Yo']\n",
      " ['Yo']\n",
      " ['Yo']\n",
      " ['Yo']\n",
      " ['Yo']\n",
      " ['Yo']\n",
      " ['Yo']\n",
      " ['Yo']\n",
      " ['Yo']\n",
      " ['Yo']\n",
      " ['Yo']\n",
      " ['Yo']\n",
      " ['Yo']\n",
      " ['Yo']\n",
      " ['Yo']\n",
      " ['Yo']\n",
      " ['Yo']\n",
      " ['Yo']\n",
      " ['Yo']\n",
      " ['Yo']\n",
      " ['Yo']\n",
      " ['Yo']\n",
      " ['Yo']\n",
      " ['Yo']\n",
      " ['Yo']\n",
      " ['Yo']\n",
      " ['Yo']\n",
      " ['Yo']\n",
      " ['Yo']\n",
      " ['Yo']\n",
      " ['Yo']\n",
      " ['Yo']\n",
      " ['Yo']\n",
      " ['Yo']\n",
      " ['Yo']\n",
      " ['Yo']\n",
      " ['Yo']\n",
      " ['Yo']\n",
      " ['Yo']\n",
      " ['Yo']\n",
      " ['Yo']\n",
      " ['Yo']\n",
      " ['Yo']\n",
      " ['Yo']\n",
      " ['Yo']\n",
      " ['Yo']\n",
      " ['Yo']\n",
      " ['Yo']\n",
      " ['Yo']\n",
      " ['Yo']\n",
      " ['Yo']\n",
      " ['Yo']\n",
      " ['Yo']\n",
      " ['Yo']\n",
      " ['Yo']\n",
      " ['Yo']\n",
      " ['Yo']\n",
      " ['Yo']\n",
      " ['Yo']\n",
      " ['Yo']\n",
      " ['Yo']\n",
      " ['Yo']\n",
      " ['Yo']\n",
      " ['Yo']\n",
      " ['Yo']\n",
      " ['Yo']\n",
      " ['Yo']\n",
      " ['Yo']\n",
      " ['Yo']\n",
      " ['Yo']\n",
      " ['Yo']\n",
      " ['Yo']\n",
      " ['Yo']\n",
      " ['Yo']\n",
      " ['Yo']\n",
      " ['Yo']\n",
      " ['Yo']\n",
      " ['Yo']\n",
      " ['Yo']\n",
      " ['Yo']\n",
      " ['Yo']\n",
      " ['Yo']\n",
      " ['Yo']\n",
      " ['Yo']\n",
      " ['Yo']\n",
      " ['Yo']\n",
      " ['Yo']\n",
      " ['Yo']\n",
      " ['Yo']\n",
      " ['Yo']\n",
      " ['Yo']\n",
      " ['Yo']\n",
      " ['Yo']\n",
      " ['Yo']\n",
      " ['Yo']\n",
      " ['Yo']\n",
      " ['Yo']\n",
      " ['Yo']\n",
      " ['Yo']\n",
      " ['Yo']\n",
      " ['Yo']\n",
      " ['Yo']\n",
      " ['Yo']\n",
      " ['Yo']\n",
      " ['Yo']\n",
      " ['Yo']\n",
      " ['Yo']\n",
      " ['Yo']\n",
      " ['Yo']\n",
      " ['Yo']\n",
      " ['Yo']\n",
      " ['Yo']\n",
      " ['Yo']\n",
      " ['Yo']\n",
      " ['Yo']\n",
      " ['Yo']\n",
      " ['Yo']\n",
      " ['Yo']\n",
      " ['Yo']\n",
      " ['Yo']\n",
      " ['Yo']\n",
      " ['Yo']\n",
      " ['Yo']\n",
      " ['Yo']\n",
      " ['Yo']\n",
      " ['Yo']\n",
      " ['Yo']\n",
      " ['Yo']\n",
      " ['Yo']\n",
      " ['Yo']\n",
      " ['Yo']\n",
      " ['Yo']\n",
      " ['Yo']\n",
      " ['Yo']\n",
      " ['Yo']\n",
      " ['Yo']\n",
      " ['Yo']\n",
      " ['Yo']]\n"
     ]
    }
   ],
   "source": [
    "def predict(x):\n",
    "    y = []\n",
    "    for i in range(len(x)):\n",
    "        y.append(model.predict([x[i]]))\n",
    "    return np.array(y)\n",
    "\n",
    "#testing case\n",
    "x = []\n",
    "for i in range(y_test.shape[0]):\n",
    "    x += [[366, 293, 298, 372]]\n",
    "y_pred = predict(x)"
   ]
  },
  {
   "cell_type": "markdown",
   "metadata": {},
   "source": [
    "### Confusion-matrix and heat map visualization of hand gesture database"
   ]
  },
  {
   "cell_type": "code",
   "execution_count": 191,
   "metadata": {},
   "outputs": [
    {
     "data": {
      "image/png": "[encoded data removed]",
      "text/plain": [
       "<Figure size 576x576 with 1 Axes>"
      ]
     },
     "metadata": {
      "needs_background": "light"
     },
     "output_type": "display_data"
    }
   ],
   "source": [
    "cm = confusion_matrix(y_test, y_pred)\n",
    "\n",
    "fig, ax = plt.subplots(figsize=(8, 8))\n",
    "ax.imshow(cm)\n",
    "ax.grid(False)\n",
    "ax.set_ylim(1.5, -0.5)\n",
    "for i in range(2):\n",
    "    for j in range(2):\n",
    "        ax.text(j, i, cm[i, j], ha='center', va='center', color='red')\n",
    "plt.show()"
   ]
  },
  {
   "cell_type": "markdown",
   "metadata": {},
   "source": [
    "### Classification report and Accuracies of model"
   ]
  },
  {
   "cell_type": "code",
   "execution_count": 192,
   "metadata": {},
   "outputs": [
    {
     "name": "stdout",
     "output_type": "stream",
     "text": [
      "Learning score:  1.0\n",
      "Predictive score:  1.0\n",
      "Classification Report: \n",
      "              precision    recall  f1-score   support\n",
      "\n",
      "     Anti-Yo       0.00      0.00      0.00        18\n",
      " Closed Hand       0.00      0.00      0.00        25\n",
      "   Open Hand       0.00      0.00      0.00        25\n",
      "     Pointer       0.00      0.00      0.00        26\n",
      "     Victory       0.00      0.00      0.00        29\n",
      "          Yo       0.18      1.00      0.31        27\n",
      "\n",
      "    accuracy                           0.18       150\n",
      "   macro avg       0.03      0.17      0.05       150\n",
      "weighted avg       0.03      0.18      0.05       150\n",
      "\n"
     ]
    },
    {
     "name": "stderr",
     "output_type": "stream",
     "text": [
      "C:\\Users\\hanub\\AppData\\Local\\Programs\\Python\\Python39\\lib\\site-packages\\sklearn\\metrics\\_classification.py:1308: UndefinedMetricWarning: Precision and F-score are ill-defined and being set to 0.0 in labels with no predicted samples. Use `zero_division` parameter to control this behavior.\n",
      "  _warn_prf(average, modifier, msg_start, len(result))\n",
      "C:\\Users\\hanub\\AppData\\Local\\Programs\\Python\\Python39\\lib\\site-packages\\sklearn\\metrics\\_classification.py:1308: UndefinedMetricWarning: Precision and F-score are ill-defined and being set to 0.0 in labels with no predicted samples. Use `zero_division` parameter to control this behavior.\n",
      "  _warn_prf(average, modifier, msg_start, len(result))\n",
      "C:\\Users\\hanub\\AppData\\Local\\Programs\\Python\\Python39\\lib\\site-packages\\sklearn\\metrics\\_classification.py:1308: UndefinedMetricWarning: Precision and F-score are ill-defined and being set to 0.0 in labels with no predicted samples. Use `zero_division` parameter to control this behavior.\n",
      "  _warn_prf(average, modifier, msg_start, len(result))\n"
     ]
    }
   ],
   "source": [
    "print(\"Learning score: \", model.score(x_train, y_train))\n",
    "print(\"Predictive score: \", model.score(x_test, y_test))\n",
    "print(\"Classification Report: \")\n",
    "print(classification_report(y_test, y_pred))"
   ]
  }
 ],
 "metadata": {
  "interpreter": {
   "hash": "74d10043df263d884b70c8395d38762f48ae4aba41da7c7bd34da933d7498f2a"
  },
  "kernelspec": {
   "display_name": "Python 3.9.7 64-bit",
   "name": "python3"
  },
  "language_info": {
   "codemirror_mode": {
    "name": "ipython",
    "version": 3
   },
   "file_extension": ".py",
   "mimetype": "text/x-python",
   "name": "python",
   "nbconvert_exporter": "python",
   "pygments_lexer": "ipython3",
   "version": "3.9.7"
  },
  "orig_nbformat": 4
 },
 "nbformat": 4,
 "nbformat_minor": 2
}
