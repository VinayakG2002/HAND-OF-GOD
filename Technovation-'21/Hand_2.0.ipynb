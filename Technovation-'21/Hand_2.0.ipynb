{
 "cells": [
  {
   "cell_type": "markdown",
   "metadata": {},
   "source": [
    "# Hand of God Code 2.0 \n",
    "## Hanan Basheer (20B030018)\n",
    "## Sidhant Bose (200020140) little bit\n"
   ]
  },
  {
   "cell_type": "markdown",
   "metadata": {},
   "source": [
    "### Installing required dependencies and modules"
   ]
  },
  {
   "cell_type": "code",
   "execution_count": 68,
   "metadata": {},
   "outputs": [],
   "source": [
    "import subprocess\n",
    "\n",
    "def install(name):\n",
    "    subprocess.call(['pip', 'install', name])\n",
    "\n",
    "install(\"matplotlib sklearn tk seaborn pandas serial mouse keyboard\")\n",
    "\n",
    "# Restart Notebook after installations are complete"
   ]
  },
  {
   "cell_type": "markdown",
   "metadata": {},
   "source": [
    "### Importing required libraries"
   ]
  },
  {
   "cell_type": "code",
   "execution_count": 69,
   "metadata": {},
   "outputs": [],
   "source": [
    "import matplotlib.pyplot as plt\n",
    "from sklearn.model_selection import train_test_split\n",
    "from sklearn.linear_model import LogisticRegression\n",
    "from sklearn.metrics import classification_report, confusion_matrix\n",
    "from sklearn.neighbors import KNeighborsClassifier\n",
    "import numpy as np\n",
    "import os\n",
    "import seaborn as sns\n",
    "import pandas as pd\n",
    "import csv\n",
    "import serial\n",
    "import time\n",
    "import keyboard\n",
    "import mouse\n",
    "import warnings\n",
    "import turtle\n",
    "from tkinter import *\n",
    "from PIL import Image, ImageTk\n",
    "from Graphics import Animations\n",
    "warnings.filterwarnings('ignore')"
   ]
  },
  {
   "cell_type": "markdown",
   "metadata": {},
   "source": [
    "### Global Variable definition"
   ]
  },
  {
   "cell_type": "code",
   "execution_count": 70,
   "metadata": {},
   "outputs": [],
   "source": [
    "push = 0  # Thumb button to push buffer commands through\n",
    "dt = 0.1\n",
    "data_list = []"
   ]
  },
  {
   "cell_type": "markdown",
   "metadata": {},
   "source": [
    "### Arduino Object Creation"
   ]
  },
  {
   "cell_type": "code",
   "execution_count": 71,
   "metadata": {},
   "outputs": [],
   "source": [
    "# arduino = serial.Serial('COM3', 9600, timeout = dt)"
   ]
  },
  {
   "cell_type": "markdown",
   "metadata": {},
   "source": [
    "### Interface (Button functions)"
   ]
  },
  {
   "cell_type": "code",
   "execution_count": 72,
   "metadata": {},
   "outputs": [],
   "source": [
    "def fun1():  # Record Hand Gesture\n",
    "    root = Tk()\n",
    "    root.title(\"Record Hand Gesture\")\n",
    "    root.geometry('500x300')\n",
    "    root.resizable(False, False)\n",
    "    root.iconbitmap(os.getcwd() + \"\\\\Graphics\\\\title_icon.ico\")\n",
    "    def record_gesture_fun():\n",
    "        avg_list = [0, 0, 0, 0]\n",
    "        for i in range(100):\n",
    "            data = \"100/200/300/400/500/600/700/800/\"  #arduino.readline()\n",
    "            if (data):\n",
    "                data = list(map(eval,str(data)[2:-5].split(\"/\")))[0:4]\n",
    "                data_list.append(data)\n",
    "                for j in range(len(data)):\n",
    "                    avg_list[j] += data[j]\n",
    "                outputs.insert(END, \"   Outputs at t = \" + str(round(dt * i, 2)) + \" is \" + str(data))\n",
    "        avg = [round(x / len(data_list), 1) for x in avg_list]\n",
    "        output_label = Label(root, text = \"Average Voltage Values\").place(x = 115, y = 30, relx = 0.5, rely = 0.5, anchor = CENTER)\n",
    "        output = Label(root, text = str(avg)).place(x = 115, y = 50, relx = 0.5, rely = 0.5, anchor = CENTER)\n",
    "\n",
    "    parent = Frame(root, padx=10, pady=10)\n",
    "    parent.pack(fill=BOTH, expand=True)\n",
    "    entry = Entry(parent)\n",
    "    entry.place(x = 115, y = -50, relx = 0.5, rely = 0.5, anchor = CENTER)\n",
    "\n",
    "    def store_gesture_fun():\n",
    "        action_name = entry.get()\n",
    "        if (action_name):\n",
    "            with open(os.getcwd() + '\\\\Vol-Ges.csv', 'a', encoding='UTF8', newline='') as f:\n",
    "                writer = csv.writer(f)\n",
    "                for i in data_list:\n",
    "                    z = i + [action_name]\n",
    "                    writer.writerow(z)\n",
    "            store_label = Label(root, text = \"Gesture stored  successfully !\", font=(\"Arial\", 10), height = 5, fg = \"#00b894\").place(x = 115, y = 50, relx = 0.5, rely = 0.5, anchor = CENTER)\n",
    "\n",
    "    scroll_bar = Scrollbar(parent)\n",
    "    scroll_bar.pack(side = RIGHT, fill = Y)\n",
    "    outputs = Listbox(parent, yscrollcommand = scroll_bar.set, width = 40)    \n",
    "    outputs.pack(side = LEFT, fill = Y)\n",
    "    scroll_bar.config(command = outputs.yview)\n",
    "    record_button = Button(parent, text='RECORD', command = record_gesture_fun, bg = \"#ff7675\").place(x = 80, y = -10, relx = 0.5, rely = 0.5, anchor = CENTER)\n",
    "    store_button = Button(parent, text='STORE', command = store_gesture_fun, bg = \"#6c5ce7\").place(x = 150, y = -10, relx = 0.5, rely = 0.5, anchor = CENTER)\n",
    "    root.mainloop()"
   ]
  },
  {
   "cell_type": "code",
   "execution_count": 73,
   "metadata": {},
   "outputs": [],
   "source": [
    "def fun2():  # Record Command (Sequencing)\n",
    "    root = Tk()\n",
    "    root.title(\"Record Command (Sequencing)\")\n",
    "    root.geometry('500x500')\n",
    "    root.resizable(False, False)\n",
    "    root.iconbitmap(os.getcwd() + \"\\\\Graphics\\\\title_icon.ico\")\n",
    "    def record_gesture_fun():\n",
    "        avg_list = [0, 0, 0, 0]\n",
    "        for i in range(100):\n",
    "            data = \"1/2/3/4/5/6/7/8/\"  #arduino.readline()\n",
    "            if (data):\n",
    "                data = list(map(eval,str(data)[2:-5].split(\"/\")))[0:4]\n",
    "                data_list.append(data)\n",
    "                for j in range(len(data)):\n",
    "                    avg_list[j] += data[j]\n",
    "                outputs.insert(END, \"   Outputs at t = \" + str(round(dt * i, 2)) + \" is \" + str(data))\n",
    "        avg = [x / len(data_list) for x in avg_list]\n",
    "        output_label = Label(root, text = \"Average Voltage Values\").place(x = 75, y = 30, relx = 0.5, rely = 0.5, anchor = CENTER)\n",
    "        output = Label(root, text = str(avg)).place(x = 75, y = 50, relx = 0.5, rely = 0.5, anchor = CENTER)\n",
    "\n",
    "    parent = Frame(root, padx=10, pady=10)\n",
    "    parent.pack(fill=BOTH, expand=True)\n",
    "    entry = Entry(parent)\n",
    "    entry.place(x = 75, y = -50, relx = 0.5, rely = 0.5, anchor = CENTER)\n",
    "\n",
    "    def store_gesture_fun():\n",
    "        action_name = entry.get()\n",
    "        if (action_name):\n",
    "            with open(os.getcwd() + '\\\\Vol-Ges.csv', 'a', encoding='UTF8', newline='') as f:\n",
    "                writer = csv.writer(f)\n",
    "                for i in data_list:\n",
    "                    z = i + [action_name]\n",
    "                    writer.writerow(z)\n",
    "\n",
    "    scroll_bar = Scrollbar(parent)\n",
    "    scroll_bar.pack(side = RIGHT, fill = Y)\n",
    "    outputs = Listbox(parent, yscrollcommand = scroll_bar.set, width = 30)    \n",
    "    outputs.pack(side = LEFT, fill = Y)\n",
    "    scroll_bar.config(command = outputs.yview)\n",
    "    record_button = Button(parent, text='RECORD', command = record_gesture_fun, bg = \"#ff7675\").place(x = 40, y = -10, relx = 0.5, rely = 0.5, anchor = CENTER)\n",
    "    store_button = Button(parent, text='STORE', command = store_gesture_fun, bg = \"#6c5ce7\").place(x = 110, y = -10, relx = 0.5, rely = 0.5, anchor = CENTER)\n",
    "    root.mainloop()"
   ]
  },
  {
   "cell_type": "markdown",
   "metadata": {},
   "source": []
  },
  {
   "cell_type": "code",
   "execution_count": 74,
   "metadata": {},
   "outputs": [],
   "source": [
    "def fun3():  # Detect Command\n",
    "    root = Tk()\n",
    "    root.title(\"Detect Command\")\n",
    "    root.geometry('500x500')\n",
    "    root.resizable(False, False)\n",
    "    root.iconbitmap(os.getcwd() + \"\\\\Graphics\\\\title_icon.ico\")"
   ]
  },
  {
   "cell_type": "code",
   "execution_count": 75,
   "metadata": {},
   "outputs": [],
   "source": [
    "def lock():\n",
    "    failure_max = 3\n",
    "    passwords = [('zextrex', 'v1itsp21')]\n",
    "\n",
    "    def make_entry(parent, caption, width=None, **options):\n",
    "        Label(parent, text=caption).pack(side=TOP)\n",
    "        entry = Entry(parent, **options)\n",
    "        if width:\n",
    "            entry.config(width=width)\n",
    "        entry.pack(side=TOP, padx=10, fill=BOTH)\n",
    "        return entry\n",
    "\n",
    "    def enter(event):\n",
    "        check_password()\n",
    "\n",
    "    def check_password(failures=[]):\n",
    "        if (user.get(), password.get()) in passwords:\n",
    "            root.destroy()\n",
    "            print('Logged in')\n",
    "            fun4()\n",
    "            return\n",
    "        failures.append(1)\n",
    "        if sum(failures) >= failure_max:\n",
    "            root.destroy()\n",
    "            raise SystemExit('Unauthorized login attempt')\n",
    "        else:\n",
    "            root.title('Try again. Attempt %i/%i' % (sum(failures)+1, failure_max))\n",
    "        \n",
    "\n",
    "    root = Tk()\n",
    "    root.title('Enter your information')\n",
    "    root.geometry('300x160')\n",
    "    root.resizable(False, False)\n",
    "    root.iconbitmap(os.getcwd() + \"\\\\Graphics\\\\title_icon.ico\")\n",
    "    parent = Frame(root, padx=10, pady=10)\n",
    "    parent.pack(fill=BOTH, expand=True)\n",
    "    user = make_entry(parent, \"Developer Username\", 16, show='')\n",
    "    password = make_entry(parent, \"Password\", 16, show=\"*\")\n",
    "    b = Button(parent, borderwidth=4, text=\"Login\", width=10, pady=8, command=check_password)\n",
    "    b.pack(side=BOTTOM)\n",
    "    password.bind('<Return>', enter)\n",
    "\n",
    "    user.focus_set()\n",
    "\n",
    "    parent.mainloop()"
   ]
  },
  {
   "cell_type": "code",
   "execution_count": 76,
   "metadata": {},
   "outputs": [],
   "source": [
    "def fun4():  # Developer Options\n",
    "    root = Tk()\n",
    "    root.title(\"Developer Options\")\n",
    "    root.geometry('500x500')\n",
    "    root.resizable(False, False)\n",
    "    root.iconbitmap(os.getcwd() + \"\\\\Graphics\\\\title_icon.ico\")"
   ]
  },
  {
   "cell_type": "code",
   "execution_count": 77,
   "metadata": {},
   "outputs": [],
   "source": [
    "def fun5():  # Air Mouse or turtle\n",
    "    V1 = 420\n",
    "    V2 = 250\n",
    "    V3 = 250\n",
    "    V4 = 360\n",
    "    def turtle_f():\n",
    "        root = Tk()\n",
    "        root.title(\"Turtle Canvas\")\n",
    "        root.geometry('500x500')\n",
    "        root.resizable(False, False)\n",
    "        root.iconbitmap(os.getcwd() + \"\\\\Graphics\\\\title_icon.ico\")\n",
    "        canvas = Canvas(root, width = 500, height = 500)\n",
    "        canvas.pack()\n",
    "        t = turtle.RawTurtle(canvas)\n",
    "        t.color('green')\n",
    "\n",
    "        \n",
    "\n",
    "        data1 = \"100/200/300/400/500/600/700/800/\" #arduino.readline()\n",
    "        if (data1):\n",
    "            data2 = list(map(eval,str(data1)[0:-5].split(\"/\")))[0:4]\n",
    "            finger1=data2[0]\n",
    "            finger2=data2[1]\n",
    "            finger3=data2[2]\n",
    "            finger4=data2[3]\n",
    "\n",
    "            if (finger3>V3 and finger4>V4):\n",
    "                t.right(90)\n",
    "                t.delay(100)\n",
    "            if (finger1>V1):\n",
    "                t.forward(100)\n",
    "                t.delay(100)\n",
    "            if (finger2>V2):\n",
    "                t.pendown()\n",
    "                t.delay(100)\n",
    "            else:\n",
    "                t.penup()\n",
    "                t.delay(100)\n",
    "\n",
    "        root.mainloop()\n",
    "\n",
    "    def air_mouse():\n",
    "        root = Tk()\n",
    "        root.title(\"Air Mouse\")\n",
    "        root.geometry('500x500')\n",
    "        root.resizable(False, False)\n",
    "        root.iconbitmap(os.getcwd() + \"\\\\Graphics\\\\title_icon.ico\")\n",
    "\n",
    "        data1 = '100/200/300/400/500/600/700/800/' #arduino.readline()\n",
    "        if (data1):\n",
    "            data2 = list(map(eval,str(data1)[2:-5].split(\"/\")))\n",
    "            print(data2)\n",
    "            finger1=data2[0]\n",
    "            finger2=data2[1]\n",
    "            finger3=data2[2]\n",
    "            finger4=data2[3]\n",
    "\n",
    "            if (finger1>V1 and finger2>V2 and finger3>V3 and finger4>V4):\n",
    "                root.destroy()\n",
    "            elif (finger1>V1 and finger2>V2 and finger3>V3 and finger4<V4):\n",
    "                mouse.move(0,0, absolute=False, duration=0.1)\n",
    "            elif (finger1>V1 and finger2>V2 and finger3<V3 and finger4>V4):\n",
    "                mouse.move(0,0, absolute=False, duration=0.1)\n",
    "            elif (finger1>V1 and finger2>V2 and finger3<V3 and finger4<V4):\n",
    "                mouse.click('left')\n",
    "            elif (finger1>V1 and finger2<V2 and finger3>V3 and finger4>V4):\n",
    "                mouse.move(0,0, absolute=False, duration=0.1)\n",
    "            elif (finger1>V1 and finger2<V2 and finger3>V3 and finger4<V4):\n",
    "                mouse.move(-20,-20, absolute=False, duration=0.1)\n",
    "            elif (finger1>V1 and finger2<V2 and finger3<V3 and finger4>V4):\n",
    "                mouse.move(-20,20, absolute=False, duration=0.1)\n",
    "            elif (finger1>V1 and finger2<V2 and finger3<V3 and finger4<V4):\n",
    "                mouse.move(-20,0, absolute=False, duration=0.1)\n",
    "            elif (finger1<V1 and finger2>V2 and finger3>V3 and finger4>V4):\n",
    "                mouse.move(0,0, absolute=False, duration=0.1)\n",
    "            elif (finger1<V1 and finger2>V2 and finger3>V3 and finger4<V4):\n",
    "                mouse.move(20,-20, absolute=False, duration=0.1)\n",
    "            elif (finger1<V1 and finger2>V2 and finger3<V3 and finger4>V4):\n",
    "                mouse.move(20,20, absolute=False, duration=0.1)\n",
    "            elif (finger1<V1 and finger2>V2 and finger3<V3 and finger4<V4):\n",
    "                mouse.move(20,0, absolute=False, duration=0.1)\n",
    "            elif (finger1<V1 and finger2<V2 and finger3>V3 and finger4>V4):\n",
    "                mouse.click('right')\n",
    "            elif (finger1<V1 and finger2<V2 and finger3>V3 and finger4<V4):\n",
    "                mouse.move(0,-20, absolute=False, duration=0.1)\n",
    "            elif (finger1<V1 and finger2<V2 and finger3<V3 and finger4>V4):\n",
    "                mouse.move(0,20, absolute=False, duration=0.1)\n",
    "            elif (finger1<420 and finger2<V2 and finger3<V3 and finger4<V4):\n",
    "                mouse.move(0,0, absolute=False, duration=0.1)\n",
    "        root.mainloop()\n",
    "   \n",
    "    root = Tk()\n",
    "    root.title('Select option')\n",
    "    root.geometry('300x300')\n",
    "    root.resizable(False, False)\n",
    "    root.iconbitmap(os.getcwd() + \"\\\\Graphics\\\\title_icon.ico\")\n",
    "    parent = Frame(root, padx=10, pady=10)\n",
    "    parent.pack(fill=BOTH, expand=True)\n",
    "    #Label(root, text = \"Which option would you like to choose?\")\n",
    "    b1 = Button(parent,borderwidth=4, text='Turtle',width=10, pady=8, padx= 8, command=turtle_f)\n",
    "    b2 = Button(parent,borderwidth=4, text='Air Mouse',width=10, pady=8, padx=8, command=air_mouse)\n",
    "    b2.pack(side=RIGHT)\n",
    "    b1.pack(side=LEFT)\n",
    "    parent.mainloop()\n",
    "    \n"
   ]
  },
  {
   "cell_type": "markdown",
   "metadata": {},
   "source": [
    "### Interface (Pop-up)"
   ]
  },
  {
   "cell_type": "code",
   "execution_count": 78,
   "metadata": {},
   "outputs": [],
   "source": [
    "window = Tk()\n",
    "window.title(\"Hand of God\")\n",
    "window.geometry('500x500')\n",
    "window.resizable(False, False)\n",
    "window.iconbitmap(os.getcwd() + \"\\\\Graphics\\\\title_icon.ico\")\n",
    "lbl = Animations.ImageLabel(window)\n",
    "lbl.pack()\n",
    "lbl.load(os.getcwd() + \"\\\\Graphics\\\\bg.gif\")\n",
    "button_frame = Frame(window).pack()\n",
    "\n",
    "picture = os.getcwd() + \"\\\\Graphics\\\\icon.png\"\n",
    "image = Image.open(picture).resize((200, 200), Image.ANTIALIAS)\n",
    "pic = ImageTk.PhotoImage(image)\n",
    "panel = Label(window, image = pic)\n",
    "panel.place(x = 0, y = -125, relx = 0.5, rely = 0.5, anchor = CENTER)\n",
    "\n",
    "picture2 = os.getcwd() + \"\\\\Graphics\\\\icon2.png\"\n",
    "image2 = Image.open(picture2).resize((215, 67), Image.ANTIALIAS)\n",
    "pic2 = ImageTk.PhotoImage(image2)\n",
    "panel2 = Label(window, image = pic2)\n",
    "panel2.place(x = 125, y = 200, relx = 0.5, rely = 0.5, anchor = CENTER)\n",
    "\n",
    "but1 = Button(button_frame, text = \"Record Hand Gesture\", font=(\"Lucida Sans\", 9), bg = '#0984e3', command = fun1, width = 30, height = 3).place(x = -125, y = 50, relx = 0.5, rely = 0.5, anchor = CENTER)\n",
    "but2 = Button(button_frame, text = \"Record Command (Sequencing)\", font=(\"Lucida Sans\", 9), bg = '#ff7675', command = fun2, width = 30, height = 3).place(x = -125, y = 125, relx = 0.5, rely = 0.5, anchor = CENTER)\n",
    "but3 = Button(button_frame, text = \"Detect Command\", font=(\"Lucida Sans\", 9), bg = '#fdcb6e', command = fun3, width = 30, height = 3).place(x = -125, y = 200, relx = 0.5, rely = 0.5, anchor = CENTER)\n",
    "but4 = Button(button_frame, text = \"Developer Options\", font=(\"Lucida Sans\", 9), bg = '#b2bec3', command = lock, width = 30, height = 3).place(x = 125, y = 50, relx = 0.5, rely = 0.5, anchor = CENTER)\n",
    "but5 = Button(button_frame, text = \"Control\", font=(\"Lucida Sans\", 9), bg = '#81ecec', command = fun5, width = 30, height = 3).place(x = 125, y = 125, relx = 0.5, rely = 0.5, anchor = CENTER)\n",
    "credits1 = Label(window, text = \"Hand of God\", fg = 'white', bg = 'black', font = (\"Gabriola 20\")).place(x = 125, y = 195, relx = 0.5, rely = 0.5, anchor = CENTER)\n",
    "credits2 = Label(window, text = \"Zextrex Robotics 🤖\", fg = 'white', bg = 'black', font = (\"Impact 10\")).place(x = 125, y = 215, relx = 0.5, rely = 0.5, anchor = CENTER)\n",
    "window.mainloop()"
   ]
  },
  {
   "cell_type": "markdown",
   "metadata": {},
   "source": [
    "### Training Data extractor from csv file"
   ]
  },
  {
   "cell_type": "code",
   "execution_count": 79,
   "metadata": {},
   "outputs": [
    {
     "name": "stdout",
     "output_type": "stream",
     "text": [
      "List of actions stored: ['Yo', 'Anti-Yo', 'Closed Hand', 'Open Hand', 'Victory', 'Pointer']\n"
     ]
    }
   ],
   "source": [
    "def built(hand):\n",
    "    l = []\n",
    "    l1 = []\n",
    "    for i in range(1, len(hand)):\n",
    "       l = l + [[hand[i][0], hand[i][1], hand[i][2], hand[i][3]]]\n",
    "       l1 = l1 + [[hand[i][4]]]\n",
    "    return (np.array(l, dtype=list), np.array(l1, dtype=list))\n",
    "\n",
    "def unique_action(y):\n",
    "    l = []\n",
    "    for i in y:\n",
    "        if i[0] not in l:\n",
    "            l.append(i[0])\n",
    "    return l\n",
    "\n",
    "reader = list(csv.reader(open(os.getcwd() + '\\\\Vol-Ges.csv')))\n",
    "x, y = built(reader)\n",
    "actions = unique_action(y)\n",
    "print(\"List of actions stored:\", actions)"
   ]
  },
  {
   "cell_type": "markdown",
   "metadata": {},
   "source": [
    "### Creating KNN model and Operations"
   ]
  },
  {
   "cell_type": "code",
   "execution_count": 85,
   "metadata": {},
   "outputs": [
    {
     "data": {
      "text/plain": [
       "['Yo', 'Yo']"
      ]
     },
     "execution_count": 85,
     "metadata": {},
     "output_type": "execute_result"
    }
   ],
   "source": [
    "model = KNeighborsClassifier(n_neighbors = 100)\n",
    "model.fit(x, y)\n",
    "predictions = list(model.predict([[366,293,298,372], [366,293,298,372]]))\n",
    "predictions"
   ]
  },
  {
   "cell_type": "markdown",
   "metadata": {},
   "source": [
    "### Prediction functions and Testing prediction"
   ]
  },
  {
   "cell_type": "code",
   "execution_count": 81,
   "metadata": {},
   "outputs": [],
   "source": [
    "# Single gesture prediction function\n",
    "def predict(x):\n",
    "    y = []\n",
    "    for i in range(len(x)):\n",
    "        y.append(model.predict([x[i]]))\n",
    "    return np.array(y)\n",
    "\n",
    "# Array buider of prediction for creating confusion matrix\n",
    "def predict_array(x, y_test):\n",
    "    y = []\n",
    "    z = list(predict(x))\n",
    "    for i in range(y_test.shape[0]):\n",
    "        y += z\n",
    "    return np.array(y)\n",
    "\n",
    "#testing case\n",
    "y_pred = predict(x)"
   ]
  },
  {
   "cell_type": "markdown",
   "metadata": {},
   "source": [
    "### Confusion-matrix of stored data and heat map visualization of hand gesture database"
   ]
  },
  {
   "cell_type": "code",
   "execution_count": 82,
   "metadata": {},
   "outputs": [
    {
     "data": {
      "image/png": "[encoded data removed]",
      "text/plain": [
       "<Figure size 1440x432 with 2 Axes>"
      ]
     },
     "metadata": {
      "needs_background": "light"
     },
     "output_type": "display_data"
    }
   ],
   "source": [
    "cm = confusion_matrix(y_train, y_test)\n",
    "\n",
    "fig, ax = plt.subplots(figsize=(20,6))\n",
    "sns.heatmap(cm, annot = True, fmt = 'd', xticklabels = actions, yticklabels = actions)\n",
    "plt.ylabel('Actual')\n",
    "plt.xlabel('Predicted')\n",
    "plt.show()"
   ]
  },
  {
   "cell_type": "markdown",
   "metadata": {},
   "source": [
    "### Confusion-matrix of test case"
   ]
  },
  {
   "cell_type": "code",
   "execution_count": 83,
   "metadata": {},
   "outputs": [
    {
     "data": {
      "image/png": "[encoded data removed]",
      "text/plain": [
       "<Figure size 1440x432 with 2 Axes>"
      ]
     },
     "metadata": {
      "needs_background": "light"
     },
     "output_type": "display_data"
    }
   ],
   "source": [
    "x_trial = [[366,293,298,372]]  # Voltage matrix corresponding to Victory-like Gesture\n",
    "cm = confusion_matrix(y_train, predict_array(x_trial, y_test))\n",
    "\n",
    "fig, ax = plt.subplots(figsize=(20,6))\n",
    "sns.heatmap(cm, annot = True, fmt = 'd', xticklabels = actions, yticklabels = actions)\n",
    "plt.ylabel('Actual')\n",
    "plt.xlabel('Predicted')\n",
    "plt.show()"
   ]
  },
  {
   "cell_type": "markdown",
   "metadata": {},
   "source": [
    "### Classification report and Accuracies of model"
   ]
  },
  {
   "cell_type": "code",
   "execution_count": 84,
   "metadata": {},
   "outputs": [
    {
     "name": "stdout",
     "output_type": "stream",
     "text": [
      "Learning score:  0.99\n",
      "Predictive score:  0.99\n",
      "Classification Report: \n",
      "              precision    recall  f1-score   support\n",
      "\n",
      "     Anti-Yo       1.00      1.00      1.00       100\n",
      " Closed Hand       1.00      1.00      1.00       100\n",
      "   Open Hand       1.00      0.94      0.97       100\n",
      "     Pointer       1.00      1.00      1.00       100\n",
      "     Victory       1.00      1.00      1.00       100\n",
      "          Yo       0.94      1.00      0.97       100\n",
      "\n",
      "    accuracy                           0.99       600\n",
      "   macro avg       0.99      0.99      0.99       600\n",
      "weighted avg       0.99      0.99      0.99       600\n",
      "\n"
     ]
    }
   ],
   "source": [
    "print(\"Learning score: \", model.score(x_train, y_train))\n",
    "print(\"Predictive score: \", model.score(x_test, y_test))\n",
    "print(\"Classification Report: \")\n",
    "print(classification_report(y, y_pred))"
   ]
  },
  {
   "cell_type": "markdown",
   "metadata": {},
   "source": [
    "## Tasks:\n",
    "- air mouse(turtle)\n",
    "- a,b,c(voltage values in vin)\n",
    "- remaining framework\n"
   ]
  }
 ],
 "metadata": {
  "interpreter": {
   "hash": "fe44fef87f92f48a3a32707d0df204585f471652bc0ce87358a3ce712bc24db0"
  },
  "kernelspec": {
   "display_name": "Python 3.9.7 64-bit",
   "name": "python3"
  },
  "language_info": {
   "codemirror_mode": {
    "name": "ipython",
    "version": 3
   },
   "file_extension": ".py",
   "mimetype": "text/x-python",
   "name": "python",
   "nbconvert_exporter": "python",
   "pygments_lexer": "ipython3",
   "version": "3.8.10"
  },
  "orig_nbformat": 4
 },
 "nbformat": 4,
 "nbformat_minor": 2
}
