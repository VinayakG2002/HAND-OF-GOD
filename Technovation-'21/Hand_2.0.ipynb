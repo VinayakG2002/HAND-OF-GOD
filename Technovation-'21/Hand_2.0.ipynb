{
 "cells": [
  {
   "cell_type": "markdown",
   "metadata": {},
   "source": [
    "# Hand of God Code 2.0 \n",
    "## Hanan Basheer (20B030018)"
   ]
  },
  {
   "cell_type": "markdown",
   "metadata": {},
   "source": [
    "### Importing required libraries"
   ]
  },
  {
   "cell_type": "code",
   "execution_count": 55,
   "metadata": {},
   "outputs": [],
   "source": [
    "import matplotlib.pyplot as plt\n",
    "from sklearn.model_selection import train_test_split\n",
    "from sklearn.linear_model import LogisticRegression\n",
    "from sklearn.metrics import classification_report, confusion_matrix\n",
    "import numpy as np\n",
    "import os\n",
    "import seaborn as sns\n",
    "import pandas as pd\n",
    "import csv\n",
    "import serial\n",
    "import time\n",
    "import keyboard\n",
    "import mouse\n",
    "import warnings\n",
    "from tkinter import *\n",
    "from PIL import Image, ImageTk\n",
    "warnings.filterwarnings('ignore')"
   ]
  },
  {
   "cell_type": "markdown",
   "metadata": {},
   "source": [
    "### Global Variable definition"
   ]
  },
  {
   "cell_type": "code",
   "execution_count": 56,
   "metadata": {},
   "outputs": [],
   "source": [
    "push = 0  # Thumb button to push buffer commands through"
   ]
  },
  {
   "cell_type": "markdown",
   "metadata": {},
   "source": [
    "### Arduino Object Creation"
   ]
  },
  {
   "cell_type": "code",
   "execution_count": null,
   "metadata": {},
   "outputs": [],
   "source": []
  },
  {
   "cell_type": "markdown",
   "metadata": {},
   "source": [
    "### Interface (Button functions)"
   ]
  },
  {
   "cell_type": "code",
   "execution_count": null,
   "metadata": {},
   "outputs": [],
   "source": [
    "def fun1():  # Record Hand Gesture\n",
    "    "
   ]
  },
  {
   "cell_type": "code",
   "execution_count": null,
   "metadata": {},
   "outputs": [],
   "source": [
    "def fun2():  # Record Command (Sequencing)"
   ]
  },
  {
   "cell_type": "code",
   "execution_count": null,
   "metadata": {},
   "outputs": [],
   "source": [
    "def fun3():  # Detect Command\n",
    "    "
   ]
  },
  {
   "cell_type": "code",
   "execution_count": null,
   "metadata": {},
   "outputs": [],
   "source": [
    "def fun4():  # Developer Options\n",
    "    "
   ]
  },
  {
   "cell_type": "code",
   "execution_count": null,
   "metadata": {},
   "outputs": [],
   "source": [
    "def fun5():  # Air Mouse"
   ]
  },
  {
   "cell_type": "markdown",
   "metadata": {},
   "source": [
    "### Interface (Pop-up)"
   ]
  },
  {
   "cell_type": "code",
   "execution_count": 57,
   "metadata": {},
   "outputs": [
    {
     "name": "stdout",
     "output_type": "stream",
     "text": [
      "<PIL.Image.Image image mode=RGBA size=200x200 at 0x20D6F8D64C0>\n"
     ]
    }
   ],
   "source": [
    "window = Tk()\n",
    "window.title(\"Hand of God\")\n",
    "window.geometry('500x500')\n",
    "window.configure(bg = \"#6c5ce7\")\n",
    "button_frame = Frame(window).pack()\n",
    "\n",
    "picture = \"icon.png\"\n",
    "image = Image.open(picture).resize((200, 200), Image.ANTIALIAS)\n",
    "print(image)\n",
    "pic = ImageTk.PhotoImage(image)\n",
    "panel = Label(window, image = pic)\n",
    "panel.pack()\n",
    "\n",
    "but1 = Button(button_frame, text = \"Record Hand Gesture\", bg = '#0984e3', command = fun1).pack(padx = 10, pady = 5, ipady = 10, ipadx = 40)\n",
    "but2 = Button(button_frame, text = \"Record Command (Sequencing)\", bg = '#ff7675', command = fun2).pack(padx = 10, pady = 5, ipady = 10, ipadx = 11)\n",
    "but3 = Button(button_frame, text = \"Detect Command\", bg = '#fdcb6e', command = fun3).pack(padx = 10, pady = 5, ipady = 10, ipadx = 49)\n",
    "but4 = Button(button_frame, text = \"Developer Options\", bg = '#b2bec3', command = fun4).pack(padx = 10, pady = 5, ipady = 10, ipadx = 47)\n",
    "but5 = Button(button_frame, text = \"Air Mouse\", bg = '#81ecec', command = fun5).pack(padx = 10, pady = 5, ipady = 10, ipadx = 69)\n",
    "\n",
    "window.mainloop()"
   ]
  },
  {
   "cell_type": "markdown",
   "metadata": {},
   "source": [
    "### Training Data extractor from csv file"
   ]
  },
  {
   "cell_type": "code",
   "execution_count": 58,
   "metadata": {},
   "outputs": [
    {
     "name": "stdout",
     "output_type": "stream",
     "text": [
      "List of actions stored: ['Yo', 'Anti-Yo', 'Closed Hand', 'Open Hand', 'Victory', 'Pointer']\n"
     ]
    }
   ],
   "source": [
    "def built(hand):\n",
    "    l = []\n",
    "    l1 = []\n",
    "    for i in range(1, len(hand)):\n",
    "       l = l + [[hand[i][0], hand[i][1], hand[i][2], hand[i][3]]]\n",
    "       l1 = l1 + [[hand[i][4]]]\n",
    "    return (np.array(l, dtype=list), np.array(l1, dtype=list))\n",
    "\n",
    "def unique_action(y):\n",
    "    l = []\n",
    "    for i in y:\n",
    "        if i[0] not in l:\n",
    "            l.append(i[0])\n",
    "    return l\n",
    "\n",
    "reader = list(csv.reader(open(os.getcwd() + '\\\\Vol-Ges.csv')))\n",
    "x, y = built(reader)\n",
    "actions = unique_action(y)\n",
    "print(\"List of actions stored:\", actions)"
   ]
  },
  {
   "cell_type": "markdown",
   "metadata": {},
   "source": [
    "### Creating Linear regression model and its methods"
   ]
  },
  {
   "cell_type": "code",
   "execution_count": 59,
   "metadata": {},
   "outputs": [
    {
     "data": {
      "text/plain": [
       "LogisticRegression(C=1, random_state=0, solver='liblinear')"
      ]
     },
     "execution_count": 59,
     "metadata": {},
     "output_type": "execute_result"
    }
   ],
   "source": [
    "model = LogisticRegression(solver = 'liblinear', C = 1, random_state = 0)\n",
    "x_train, x_test, y_train, y_test = train_test_split(x, y, random_state = 0, test_size = 0.5, stratify = y)\n",
    "model.fit(x_train, y_train)"
   ]
  },
  {
   "cell_type": "markdown",
   "metadata": {},
   "source": [
    "### Prediction functions and Testing prediction"
   ]
  },
  {
   "cell_type": "code",
   "execution_count": 60,
   "metadata": {},
   "outputs": [],
   "source": [
    "# Single gesture prediction function\n",
    "def predict(x):\n",
    "    y = []\n",
    "    for i in range(len(x)):\n",
    "        y.append(model.predict([x[i]]))\n",
    "    return np.array(y)\n",
    "\n",
    "# Array buider of prediction for creating confusion matrix\n",
    "def predict_array(x, y_test):\n",
    "    y = []\n",
    "    z = list(predict(x))\n",
    "    for i in range(y_test.shape[0]):\n",
    "        y += z\n",
    "    return np.array(y)\n",
    "\n",
    "#testing case\n",
    "y_pred = predict(x)"
   ]
  },
  {
   "cell_type": "markdown",
   "metadata": {},
   "source": [
    "### Confusion-matrix of stored data and heat map visualization of hand gesture database"
   ]
  },
  {
   "cell_type": "code",
   "execution_count": 61,
   "metadata": {},
   "outputs": [
    {
     "data": {
      "image/png": "[encoded data removed]",
      "text/plain": [
       "<Figure size 1440x432 with 2 Axes>"
      ]
     },
     "metadata": {
      "needs_background": "light"
     },
     "output_type": "display_data"
    }
   ],
   "source": [
    "cm = confusion_matrix(y_train, y_test)\n",
    "\n",
    "fig, ax = plt.subplots(figsize=(20,6))\n",
    "sns.heatmap(cm, annot = True, fmt = 'd', xticklabels = actions, yticklabels = actions)\n",
    "plt.ylabel('Actual')\n",
    "plt.xlabel('Predicted')\n",
    "plt.show()"
   ]
  },
  {
   "cell_type": "markdown",
   "metadata": {},
   "source": [
    "### Confusion-matrix of test case"
   ]
  },
  {
   "cell_type": "code",
   "execution_count": 62,
   "metadata": {},
   "outputs": [
    {
     "data": {
      "image/png": "[encoded data removed]",
      "text/plain": [
       "<Figure size 1440x432 with 2 Axes>"
      ]
     },
     "metadata": {
      "needs_background": "light"
     },
     "output_type": "display_data"
    }
   ],
   "source": [
    "x_trial = [[0, 1, 2, 3]]  # Voltage matrix corresponding to Victory-like Gesture\n",
    "cm = confusion_matrix(y_train, predict_array(x_trial, y_test))\n",
    "\n",
    "fig, ax = plt.subplots(figsize=(20,6))\n",
    "sns.heatmap(cm, annot = True, fmt = 'd', xticklabels = actions, yticklabels = actions)\n",
    "plt.ylabel('Actual')\n",
    "plt.xlabel('Predicted')\n",
    "plt.show()"
   ]
  },
  {
   "cell_type": "markdown",
   "metadata": {},
   "source": [
    "### Classification report and Accuracies of model"
   ]
  },
  {
   "cell_type": "code",
   "execution_count": 63,
   "metadata": {},
   "outputs": [
    {
     "name": "stdout",
     "output_type": "stream",
     "text": [
      "Learning score:  1.0\n",
      "Predictive score:  1.0\n",
      "Classification Report: \n",
      "              precision    recall  f1-score   support\n",
      "\n",
      "     Anti-Yo       1.00      1.00      1.00       100\n",
      " Closed Hand       1.00      1.00      1.00       100\n",
      "   Open Hand       1.00      1.00      1.00       100\n",
      "     Pointer       1.00      1.00      1.00       100\n",
      "     Victory       1.00      1.00      1.00       100\n",
      "          Yo       1.00      1.00      1.00       100\n",
      "\n",
      "    accuracy                           1.00       600\n",
      "   macro avg       1.00      1.00      1.00       600\n",
      "weighted avg       1.00      1.00      1.00       600\n",
      "\n"
     ]
    }
   ],
   "source": [
    "print(\"Learning score: \", model.score(x_train, y_train))\n",
    "print(\"Predictive score: \", model.score(x_test, y_test))\n",
    "print(\"Classification Report: \")\n",
    "print(classification_report(y, y_pred))"
   ]
  }
 ],
 "metadata": {
  "interpreter": {
   "hash": "fe44fef87f92f48a3a32707d0df204585f471652bc0ce87358a3ce712bc24db0"
  },
  "kernelspec": {
   "display_name": "Python 3.9.7 64-bit",
   "name": "python3"
  },
  "language_info": {
   "codemirror_mode": {
    "name": "ipython",
    "version": 3
   },
   "file_extension": ".py",
   "mimetype": "text/x-python",
   "name": "python",
   "nbconvert_exporter": "python",
   "pygments_lexer": "ipython3",
   "version": "3.9.7"
  },
  "orig_nbformat": 4
 },
 "nbformat": 4,
 "nbformat_minor": 2
}
