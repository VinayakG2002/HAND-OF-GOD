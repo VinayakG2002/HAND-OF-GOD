{
 "cells": [
  {
   "cell_type": "markdown",
   "metadata": {},
   "source": [
    "# Hand of God Code 2.0 \n",
    "## Hanan Basheer (20B030018)"
   ]
  },
  {
   "cell_type": "markdown",
   "metadata": {},
   "source": [
    "### Installing required dependencies and modules"
   ]
  },
  {
   "cell_type": "code",
   "execution_count": 30,
   "metadata": {},
   "outputs": [],
   "source": [
    "import subprocess\n",
    "\n",
    "def install(name):\n",
    "    subprocess.call(['pip', 'install', name])\n",
    "\n",
    "install(\"matplotlib sklearn tk seaborn pandas csv serial mouse keyboard\")"
   ]
  },
  {
   "cell_type": "markdown",
   "metadata": {},
   "source": [
    "### Importing required libraries"
   ]
  },
  {
   "cell_type": "code",
   "execution_count": 31,
   "metadata": {},
   "outputs": [],
   "source": [
    "import matplotlib.pyplot as plt\n",
    "from sklearn.model_selection import train_test_split\n",
    "from sklearn.linear_model import LogisticRegression\n",
    "from sklearn.metrics import classification_report, confusion_matrix\n",
    "import numpy as np\n",
    "import os\n",
    "import seaborn as sns\n",
    "import pandas as pd\n",
    "import csv\n",
    "import serial\n",
    "import time\n",
    "import keyboard\n",
    "import mouse\n",
    "import warnings\n",
    "from tkinter import *\n",
    "from PIL import Image, ImageTk\n",
    "from Graphics import Animations\n",
    "warnings.filterwarnings('ignore')"
   ]
  },
  {
   "cell_type": "markdown",
   "metadata": {},
   "source": [
    "### Global Variable definition"
   ]
  },
  {
   "cell_type": "code",
   "execution_count": 32,
   "metadata": {},
   "outputs": [],
   "source": [
    "push = 0  # Thumb button to push buffer commands through\n",
    "dt = 0.1\n",
    "data_list = []"
   ]
  },
  {
   "cell_type": "markdown",
   "metadata": {},
   "source": [
    "### Arduino Object Creation"
   ]
  },
  {
   "cell_type": "code",
   "execution_count": 33,
   "metadata": {},
   "outputs": [],
   "source": [
    "# arduino = serial.Serial('COM3', 9600, timeout = dt)"
   ]
  },
  {
   "cell_type": "markdown",
   "metadata": {},
   "source": [
    "### Interface (Button functions)"
   ]
  },
  {
   "cell_type": "code",
   "execution_count": 34,
   "metadata": {},
   "outputs": [],
   "source": [
    "def fun1():  # Record Hand Gesture\n",
    "    def store_gesture_fun():\n",
    "        action_name = entry_title.get()\n",
    "        outputs.insert(END, action_name)\n",
    "        with open(os.getcwd() + '\\\\Vol-Ges.csv', 'a', encoding='UTF8', newline='') as f:\n",
    "            writer = csv.writer(f)\n",
    "            for i in data_list:\n",
    "                z = i + [action_name]\n",
    "                writer.writerow(z)\n",
    "\n",
    "    def record_gesture_fun():\n",
    "        avg_list = [0, 0, 0, 0]\n",
    "        for i in range(100):\n",
    "            data = \"1/2/3/4/5/6/7/8/\"  #arduino.readline()\n",
    "            if (data):\n",
    "                data = list(map(eval,str(data)[2:-5].split(\"/\")))[0:4]\n",
    "                data_list.append(data)\n",
    "                for j in range(len(data)):\n",
    "                    avg_list[j] += data[j]\n",
    "                outputs.insert(END, \"Outputs at t = \" + str(round(dt * i, 2)) + \" is \" + str(data))\n",
    "        avg = [x / len(data_list) for x in avg_list]\n",
    "        output_label = Label(root, text = \"Average Voltage Values\").place(x = 75, y = 30, relx = 0.5, rely = 0.5, anchor = CENTER)\n",
    "        output = Label(root, text = str(avg)).place(x = 75, y = 50, relx = 0.5, rely = 0.5, anchor = CENTER)\n",
    "\n",
    "    root = Tk()\n",
    "    root.title(\"Record Hand Gesture\")\n",
    "    root.geometry('400x300')\n",
    "    root.resizable(False, False)\n",
    "    root.iconbitmap(os.getcwd() + \"\\\\Graphics\\\\title_icon.ico\")\n",
    "    entry_title = StringVar()\n",
    "    entry = Entry(root, textvariable = entry_title).place(x = 75, y = -50, relx = 0.5, rely = 0.5, anchor = CENTER)\n",
    "    entry.bind('<Return>', return_entry)\n",
    "    scroll_bar = Scrollbar(root)\n",
    "    scroll_bar.pack(side = RIGHT, fill = Y)\n",
    "    outputs = Listbox(root, yscrollcommand = scroll_bar.set, width = 30)    \n",
    "    outputs.pack(side = LEFT, fill = Y)\n",
    "    scroll_bar.config(command = outputs.yview)\n",
    "    record_button = Button(root, text='RECORD', command = record_gesture_fun, bg = \"#ff7675\").place(x = 40, y = -10, relx = 0.5, rely = 0.5, anchor = CENTER)\n",
    "    store_button = Button(root, text='STORE', command = store_gesture_fun, bg = \"#6c5ce7\").place(x = 110, y = -10, relx = 0.5, rely = 0.5, anchor = CENTER)\n",
    "    root.mainloop()"
   ]
  },
  {
   "cell_type": "code",
   "execution_count": 35,
   "metadata": {},
   "outputs": [
    {
     "name": "stdout",
     "output_type": "stream",
     "text": [
      "[]\n"
     ]
    }
   ],
   "source": [
    "print(data_list)"
   ]
  },
  {
   "cell_type": "code",
   "execution_count": 36,
   "metadata": {},
   "outputs": [],
   "source": [
    "def fun2():  # Record Command (Sequencing)\n",
    "    root = Tk()\n",
    "    root.title(\"Record Command (Sequencing)\")\n",
    "    root.geometry('500x500')\n",
    "    root.resizable(False, False)\n",
    "    root.iconbitmap(os.getcwd() + \"\\\\Graphics\\\\title_icon.ico\")"
   ]
  },
  {
   "cell_type": "code",
   "execution_count": 37,
   "metadata": {},
   "outputs": [],
   "source": [
    "def fun3():  # Detect Command\n",
    "    root = Tk()\n",
    "    root.title(\"Detect Command\")\n",
    "    root.geometry('500x500')\n",
    "    root.resizable(False, False)\n",
    "    root.iconbitmap(os.getcwd() + \"\\\\Graphics\\\\title_icon.ico\")"
   ]
  },
  {
   "cell_type": "code",
   "execution_count": 38,
   "metadata": {},
   "outputs": [],
   "source": [
    "def lock():\n",
    "    failure_max = 3\n",
    "    passwords = [('zextrex', 'v1itsp21')]\n",
    "\n",
    "    def make_entry(parent, caption, width=None, **options):\n",
    "        Label(parent, text=caption).pack(side=TOP)\n",
    "        entry = Entry(parent, **options)\n",
    "        if width:\n",
    "            entry.config(width=width)\n",
    "        entry.pack(side=TOP, padx=10, fill=BOTH)\n",
    "        return entry\n",
    "\n",
    "    def enter(event):\n",
    "        check_password()\n",
    "\n",
    "    def check_password(failures=[]):\n",
    "        print(user.get(), password.get())\n",
    "        if (user.get(), password.get()) in passwords:\n",
    "            root.destroy()\n",
    "            print('Logged in')\n",
    "            fun4()\n",
    "            return\n",
    "        failures.append(1)\n",
    "        if sum(failures) >= failure_max:\n",
    "            root.destroy()\n",
    "            raise SystemExit('Unauthorized login attempt')\n",
    "        else:\n",
    "            root.title('Try again. Attempt %i/%i' % (sum(failures)+1, failure_max))\n",
    "        \n",
    "\n",
    "    root = Tk()\n",
    "    root.title('Enter your information')\n",
    "    root.geometry('300x160')\n",
    "    root.resizable(False, False)\n",
    "    root.iconbitmap(os.getcwd() + \"\\\\Graphics\\\\title_icon.ico\")\n",
    "    parent = Frame(root, padx=10, pady=10)\n",
    "    parent.pack(fill=BOTH, expand=True)\n",
    "    user = make_entry(parent, \"Developer Username\", 16, show='')\n",
    "    password = make_entry(parent, \"Password\", 16, show=\"*\")\n",
    "    b = Button(parent, borderwidth=4, text=\"Login\", width=10, pady=8, command=check_password)\n",
    "    b.pack(side=BOTTOM)\n",
    "    password.bind('<Return>', enter)\n",
    "\n",
    "    user.focus_set()\n",
    "\n",
    "    parent.mainloop()"
   ]
  },
  {
   "cell_type": "code",
   "execution_count": 39,
   "metadata": {},
   "outputs": [],
   "source": [
    "def fun4():  # Developer Options\n",
    "    root = Tk()\n",
    "    root.title(\"Developer Options\")\n",
    "    root.geometry('500x500')\n",
    "    root.resizable(False, False)\n",
    "    root.iconbitmap(os.getcwd() + \"\\\\Graphics\\\\title_icon.ico\")"
   ]
  },
  {
   "cell_type": "code",
   "execution_count": 40,
   "metadata": {},
   "outputs": [],
   "source": [
    "def fun5():  # Air Mouse\n",
    "    root = Tk()\n",
    "    root.title(\"Air Mouse\")\n",
    "    root.geometry('500x500')\n",
    "    root.resizable(False, False)\n",
    "    root.iconbitmap(os.getcwd() + \"\\\\Graphics\\\\title_icon.ico\")"
   ]
  },
  {
   "cell_type": "markdown",
   "metadata": {},
   "source": [
    "### Interface (Pop-up)"
   ]
  },
  {
   "cell_type": "code",
   "execution_count": 41,
   "metadata": {},
   "outputs": [],
   "source": [
    "window = Tk()\n",
    "window.title(\"Hand of God\")\n",
    "window.geometry('500x500')\n",
    "window.resizable(False, False)\n",
    "window.iconbitmap(os.getcwd() + \"\\\\Graphics\\\\title_icon.ico\")\n",
    "lbl = Animations.ImageLabel(window)\n",
    "lbl.pack()\n",
    "lbl.load(os.getcwd() + \"\\\\Graphics\\\\bg.gif\")\n",
    "button_frame = Frame(window).pack()\n",
    "\n",
    "picture = os.getcwd() + \"\\\\Graphics\\\\icon.png\"\n",
    "image = Image.open(picture).resize((200, 200), Image.ANTIALIAS)\n",
    "pic = ImageTk.PhotoImage(image)\n",
    "panel = Label(window, image = pic)\n",
    "panel.place(x = 0, y = -125, relx = 0.5, rely = 0.5, anchor = CENTER)\n",
    "\n",
    "picture2 = os.getcwd() + \"\\\\Graphics\\\\icon2.png\"\n",
    "image2 = Image.open(picture2).resize((215, 67), Image.ANTIALIAS)\n",
    "pic2 = ImageTk.PhotoImage(image2)\n",
    "panel2 = Label(window, image = pic2)\n",
    "panel2.place(x = 125, y = 200, relx = 0.5, rely = 0.5, anchor = CENTER)\n",
    "\n",
    "but1 = Button(button_frame, text = \"Record Hand Gesture\", font=(\"Lucida Sans\", 9), bg = '#0984e3', command = fun1, width = 30, height = 3).place(x = -125, y = 50, relx = 0.5, rely = 0.5, anchor = CENTER)\n",
    "but2 = Button(button_frame, text = \"Record Command (Sequencing)\", font=(\"Lucida Sans\", 9), bg = '#ff7675', command = fun2, width = 30, height = 3).place(x = -125, y = 125, relx = 0.5, rely = 0.5, anchor = CENTER)\n",
    "but3 = Button(button_frame, text = \"Detect Command\", font=(\"Lucida Sans\", 9), bg = '#fdcb6e', command = fun3, width = 30, height = 3).place(x = -125, y = 200, relx = 0.5, rely = 0.5, anchor = CENTER)\n",
    "but4 = Button(button_frame, text = \"Developer Options\", font=(\"Lucida Sans\", 9), bg = '#b2bec3', command = lock, width = 30, height = 3).place(x = 125, y = 50, relx = 0.5, rely = 0.5, anchor = CENTER)\n",
    "but5 = Button(button_frame, text = \"Air Mouse\", font=(\"Lucida Sans\", 9), bg = '#81ecec', command = fun5, width = 30, height = 3).place(x = 125, y = 125, relx = 0.5, rely = 0.5, anchor = CENTER)\n",
    "credits1 = Label(window, text = \"Hand of God\", fg = 'white', bg = 'black', font = (\"Gabriola 20\")).place(x = 125, y = 195, relx = 0.5, rely = 0.5, anchor = CENTER)\n",
    "credits2 = Label(window, text = \"Zextrex Robotics 🤖\", fg = 'white', bg = 'black', font = (\"Impact 10\")).place(x = 125, y = 215, relx = 0.5, rely = 0.5, anchor = CENTER)\n",
    "window.mainloop()"
   ]
  },
  {
   "cell_type": "markdown",
   "metadata": {},
   "source": [
    "### Training Data extractor from csv file"
   ]
  },
  {
   "cell_type": "code",
   "execution_count": 42,
   "metadata": {},
   "outputs": [
    {
     "name": "stdout",
     "output_type": "stream",
     "text": [
      "List of actions stored: ['Yo', 'Anti-Yo', 'Closed Hand', 'Open Hand', 'Victory', 'Pointer', '']\n"
     ]
    }
   ],
   "source": [
    "def built(hand):\n",
    "    l = []\n",
    "    l1 = []\n",
    "    for i in range(1, len(hand)):\n",
    "       l = l + [[hand[i][0], hand[i][1], hand[i][2], hand[i][3]]]\n",
    "       l1 = l1 + [[hand[i][4]]]\n",
    "    return (np.array(l, dtype=list), np.array(l1, dtype=list))\n",
    "\n",
    "def unique_action(y):\n",
    "    l = []\n",
    "    for i in y:\n",
    "        if i[0] not in l:\n",
    "            l.append(i[0])\n",
    "    return l\n",
    "\n",
    "reader = list(csv.reader(open(os.getcwd() + '\\\\Vol-Ges.csv')))\n",
    "x, y = built(reader)\n",
    "actions = unique_action(y)\n",
    "print(\"List of actions stored:\", actions)"
   ]
  },
  {
   "cell_type": "markdown",
   "metadata": {},
   "source": [
    "### Creating Linear regression model and its methods"
   ]
  },
  {
   "cell_type": "code",
   "execution_count": 43,
   "metadata": {},
   "outputs": [
    {
     "data": {
      "text/plain": [
       "LogisticRegression(C=1, random_state=0, solver='liblinear')"
      ]
     },
     "execution_count": 43,
     "metadata": {},
     "output_type": "execute_result"
    }
   ],
   "source": [
    "model = LogisticRegression(solver = 'liblinear', C = 1, random_state = 0)\n",
    "x_train, x_test, y_train, y_test = train_test_split(x, y, random_state = 0, test_size = 0.5, stratify = y)\n",
    "model.fit(x_train, y_train)"
   ]
  },
  {
   "cell_type": "markdown",
   "metadata": {},
   "source": [
    "### Prediction functions and Testing prediction"
   ]
  },
  {
   "cell_type": "code",
   "execution_count": 44,
   "metadata": {},
   "outputs": [],
   "source": [
    "# Single gesture prediction function\n",
    "def predict(x):\n",
    "    y = []\n",
    "    for i in range(len(x)):\n",
    "        y.append(model.predict([x[i]]))\n",
    "    return np.array(y)\n",
    "\n",
    "# Array buider of prediction for creating confusion matrix\n",
    "def predict_array(x, y_test):\n",
    "    y = []\n",
    "    z = list(predict(x))\n",
    "    for i in range(y_test.shape[0]):\n",
    "        y += z\n",
    "    return np.array(y)\n",
    "\n",
    "#testing case\n",
    "y_pred = predict(x)"
   ]
  },
  {
   "cell_type": "markdown",
   "metadata": {},
   "source": [
    "### Confusion-matrix of stored data and heat map visualization of hand gesture database"
   ]
  },
  {
   "cell_type": "code",
   "execution_count": 45,
   "metadata": {},
   "outputs": [
    {
     "data": {
      "image/png": "[encoded data removed]",
      "text/plain": [
       "<Figure size 1440x432 with 2 Axes>"
      ]
     },
     "metadata": {
      "needs_background": "light"
     },
     "output_type": "display_data"
    }
   ],
   "source": [
    "cm = confusion_matrix(y_train, y_test)\n",
    "\n",
    "fig, ax = plt.subplots(figsize=(20,6))\n",
    "sns.heatmap(cm, annot = True, fmt = 'd', xticklabels = actions, yticklabels = actions)\n",
    "plt.ylabel('Actual')\n",
    "plt.xlabel('Predicted')\n",
    "plt.show()"
   ]
  },
  {
   "cell_type": "markdown",
   "metadata": {},
   "source": [
    "### Confusion-matrix of test case"
   ]
  },
  {
   "cell_type": "code",
   "execution_count": 46,
   "metadata": {},
   "outputs": [
    {
     "data": {
      "image/png": "[encoded data removed]",
      "text/plain": [
       "<Figure size 1440x432 with 2 Axes>"
      ]
     },
     "metadata": {
      "needs_background": "light"
     },
     "output_type": "display_data"
    }
   ],
   "source": [
    "x_trial = [[0, 1, 2, 3]]  # Voltage matrix corresponding to Victory-like Gesture\n",
    "cm = confusion_matrix(y_train, predict_array(x_trial, y_test))\n",
    "\n",
    "fig, ax = plt.subplots(figsize=(20,6))\n",
    "sns.heatmap(cm, annot = True, fmt = 'd', xticklabels = actions, yticklabels = actions)\n",
    "plt.ylabel('Actual')\n",
    "plt.xlabel('Predicted')\n",
    "plt.show()"
   ]
  },
  {
   "cell_type": "markdown",
   "metadata": {},
   "source": [
    "### Classification report and Accuracies of model"
   ]
  },
  {
   "cell_type": "code",
   "execution_count": 47,
   "metadata": {},
   "outputs": [
    {
     "name": "stdout",
     "output_type": "stream",
     "text": [
      "Learning score:  1.0\n",
      "Predictive score:  0.9942857142857143\n",
      "Classification Report: \n",
      "              precision    recall  f1-score   support\n",
      "\n",
      "                   1.00      1.00      1.00       100\n",
      "     Anti-Yo       1.00      0.98      0.99       100\n",
      " Closed Hand       0.98      1.00      0.99       100\n",
      "   Open Hand       1.00      1.00      1.00       100\n",
      "     Pointer       1.00      1.00      1.00       100\n",
      "     Victory       1.00      1.00      1.00       100\n",
      "          Yo       1.00      1.00      1.00       100\n",
      "\n",
      "    accuracy                           1.00       700\n",
      "   macro avg       1.00      1.00      1.00       700\n",
      "weighted avg       1.00      1.00      1.00       700\n",
      "\n"
     ]
    }
   ],
   "source": [
    "print(\"Learning score: \", model.score(x_train, y_train))\n",
    "print(\"Predictive score: \", model.score(x_test, y_test))\n",
    "print(\"Classification Report: \")\n",
    "print(classification_report(y, y_pred))"
   ]
  }
 ],
 "metadata": {
  "interpreter": {
   "hash": "fe44fef87f92f48a3a32707d0df204585f471652bc0ce87358a3ce712bc24db0"
  },
  "kernelspec": {
   "display_name": "Python 3.9.7 64-bit",
   "name": "python3"
  },
  "language_info": {
   "codemirror_mode": {
    "name": "ipython",
    "version": 3
   },
   "file_extension": ".py",
   "mimetype": "text/x-python",
   "name": "python",
   "nbconvert_exporter": "python",
   "pygments_lexer": "ipython3",
   "version": "3.9.7"
  },
  "orig_nbformat": 4
 },
 "nbformat": 4,
 "nbformat_minor": 2
}
